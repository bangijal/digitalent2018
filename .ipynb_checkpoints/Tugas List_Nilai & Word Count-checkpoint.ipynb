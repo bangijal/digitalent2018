{
 "cells": [
  {
   "cell_type": "markdown",
   "metadata": {},
   "source": [
    "# ============================================================"
   ]
  },
  {
   "cell_type": "markdown",
   "metadata": {},
   "source": [
    "# Nama  : Rizal Imran Rusyadi\n",
    "Kelas : BD-B"
   ]
  },
  {
   "cell_type": "markdown",
   "metadata": {},
   "source": [
    "# 1. Tugas List Nilai (LATIHAN 2)"
   ]
  },
  {
   "cell_type": "code",
   "execution_count": 46,
   "metadata": {
    "scrolled": true
   },
   "outputs": [
    {
     "name": "stdout",
     "output_type": "stream",
     "text": [
      "[17, 99, 70, 66, 71, 54, 53, 23, 40, 72, 29, 19, 95, 95, 34, 30, 50, 18, 51, 1, 11, 60, 87, 6, 75, 44, 83, 70, 19, 75, 26, 35, 88, 36, 96, 1, 94, 51, 84, 13, 66, 98, 30, 18, 99, 81, 71, 73, 75, 2, 65, 46, 23, 49, 24, 42, 87, 76, 52, 98, 2, 65, 95, 62, 9, 66, 89, 4, 26, 37, 96, 19, 21, 6, 87, 11, 27, 47, 13, 24, 2, 89, 90, 6, 85, 72, 48, 76, 86, 7, 62, 95, 38, 3, 43, 34, 1, 98, 79, 4, 60, 40, 79, 33, 66, 83, 97, 72, 33, 78, 89, 22, 77, 80, 87, 72, 28, 85, 39, 23, 52, 4, 24, 56, 84, 25, 36, 96, 97, 51, 12, 35, 40, 37, 10, 94, 96, 76, 5, 83, 66, 78, 82, 89, 57, 14, 70, 2, 64, 44, 63, 9, 73, 98, 6, 57, 40, 81, 68, 50, 96, 43, 80, 73, 84, 34, 42, 7, 30, 88, 17, 98, 55, 11, 82, 97, 86, 86, 36, 93, 43, 54, 12, 65, 24, 44, 39, 48, 54, 34, 74, 21, 70, 50, 64, 37, 24, 20, 65, 17, 45, 17, 27, 47, 4, 31, 68, 28, 2, 28, 41, 39, 18, 75, 45, 19, 86, 85, 54, 6, 86, 40, 11, 1, 50, 36, 15, 58, 82, 41, 89, 54, 16, 82, 36, 79, 39, 4, 72, 87, 89, 12, 83, 42, 53, 16, 17, 5, 54, 9]\n"
     ]
    }
   ],
   "source": [
    "#Angka random\n",
    "\n",
    "import random\n",
    "\n",
    "# GENERATE RANDOM\n",
    "nilaiTugas = []\n",
    "for i in range(250):\n",
    "    nilaiTugas.append(random.randrange(1,100,1))\n",
    "\n",
    "print(nilaiTugas)\n",
    "\n",
    "# TAMPILKAN:\n",
    "# ganjil\n",
    "# nilai > 70\n",
    "# standar deviasi\n",
    "# maksimum\n",
    "# minimum\n",
    "# modus"
   ]
  },
  {
   "cell_type": "markdown",
   "metadata": {},
   "source": [
    "# a. Tampilkan Angka Ganjil dari ke 250 nilai tersebut"
   ]
  },
  {
   "cell_type": "code",
   "execution_count": 47,
   "metadata": {},
   "outputs": [
    {
     "name": "stdout",
     "output_type": "stream",
     "text": [
      "Nilai ganjilnya adalah = \n",
      " [17, 99, 71, 53, 23, 29, 19, 95, 95, 51, 1, 11, 87, 75, 83, 19, 75, 35, 1, 51, 13, 99, 81, 71, 73, 75, 65, 23, 49, 87, 65, 95, 9, 89, 37, 19, 21, 87, 11, 27, 47, 13, 89, 85, 7, 95, 3, 43, 1, 79, 79, 33, 83, 97, 33, 89, 77, 87, 85, 39, 23, 25, 97, 51, 35, 37, 5, 83, 89, 57, 63, 9, 73, 57, 81, 43, 73, 7, 17, 55, 11, 97, 93, 43, 65, 39, 21, 37, 65, 17, 45, 17, 27, 47, 31, 41, 39, 75, 45, 19, 85, 11, 1, 15, 41, 89, 79, 39, 87, 89, 83, 53, 17, 5, 9]\n"
     ]
    }
   ],
   "source": [
    "#menampilkan angka ganjil\n",
    "\n",
    "Angka_ganjil=[]\n",
    "for g in nilaiTugas:\n",
    "    if g % 2 == 1:\n",
    "        Angka_ganjil.append(g)\n",
    "        \n",
    "print (\"Nilai ganjilnya adalah = \\n\",Angka_ganjil)\n"
   ]
  },
  {
   "cell_type": "markdown",
   "metadata": {},
   "source": [
    "# b. Tampilkan berapa banyak yang mendapatkan nilai > 70"
   ]
  },
  {
   "cell_type": "code",
   "execution_count": 54,
   "metadata": {},
   "outputs": [
    {
     "name": "stdout",
     "output_type": "stream",
     "text": [
      "Jumlah siswa yang mendapatkan nilai > 70 adalah sebanyak =  83\n",
      "Nilai > 70 sebagai berikut : \n",
      " [99, 71, 72, 95, 95, 87, 75, 83, 75, 88, 96, 94, 84, 98, 99, 81, 71, 73, 75, 87, 76, 98, 95, 89, 96, 87, 89, 90, 85, 72, 76, 86, 95, 98, 79, 79, 83, 97, 72, 78, 89, 77, 80, 87, 72, 85, 84, 96, 97, 94, 96, 76, 83, 78, 82, 89, 73, 98, 81, 96, 80, 73, 84, 88, 98, 82, 97, 86, 86, 93, 74, 75, 86, 85, 86, 82, 89, 82, 79, 72, 87, 89, 83]\n"
     ]
    }
   ],
   "source": [
    "a70 = []\n",
    "for g in nilaiTugas:\n",
    "    if g > 70:\n",
    "        a70.append(g)\n",
    "print(\"Jumlah siswa yang mendapatkan nilai > 70 adalah sebanyak = \",len(a70))\n",
    "print(\"Nilai > 70 sebagai berikut : \\n\",a70)"
   ]
  },
  {
   "cell_type": "markdown",
   "metadata": {},
   "source": [
    "# c. Tampilkan standar deviasi dari sekumpulan nilai tersebut"
   ]
  },
  {
   "cell_type": "code",
   "execution_count": 58,
   "metadata": {},
   "outputs": [
    {
     "name": "stdout",
     "output_type": "stream",
     "text": [
      "Standard Deviasi adalah = 29.93315739521287\n"
     ]
    }
   ],
   "source": [
    "# Hitung standard deviasi\n",
    "\n",
    "#hitung rata-rata\n",
    "total = 0\n",
    "for g in nilaiTugas:\n",
    "    total = total + g\n",
    "rata = total / len(nilaiTugas)\n",
    "\n",
    "#hitung standar_deviasi\n",
    "TotalSelisih = 0\n",
    "for g in nilaiTugas:\n",
    "    x=g-rata\n",
    "    pangkat=x**2\n",
    "    TotalSelisih=TotalSelisih+pangkat\n",
    "s_dev = (TotalSelisih / (len(nilaiTugas)-1))**(0.5)\n",
    "\n",
    "print(\"Standard Deviasi adalah =\",s_dev)"
   ]
  },
  {
   "cell_type": "markdown",
   "metadata": {},
   "source": [
    "# d. Tampilkan nilai maksimum dan minimum"
   ]
  },
  {
   "cell_type": "code",
   "execution_count": 67,
   "metadata": {},
   "outputs": [
    {
     "name": "stdout",
     "output_type": "stream",
     "text": [
      "Nilai Maks =  99\n",
      "Nilai Min  =  1\n"
     ]
    }
   ],
   "source": [
    "nlMaks = nilaiTugas[0]\n",
    "nlMin = nilaiTugas[0]\n",
    "for g in nilaiTugas:\n",
    "    if(g>nlMaks):\n",
    "        nlMaks = g\n",
    "    if(g<nlMin):\n",
    "        nlMin = g\n",
    "\n",
    "print('Nilai Maks = ', nlMaks)\n",
    "print('Nilai Min  = ', nlMin)"
   ]
  },
  {
   "cell_type": "markdown",
   "metadata": {},
   "source": [
    "# e. Tampilkan modus dari sekumpulan nilai tersebut"
   ]
  },
  {
   "cell_type": "code",
   "execution_count": 101,
   "metadata": {},
   "outputs": [
    {
     "name": "stdout",
     "output_type": "stream",
     "text": [
      "Nilai Modusnya adalah = 54\n",
      "Nilai Modusnya adalah = 89\n"
     ]
    }
   ],
   "source": [
    "#Cari siapa yang modus? :D\n",
    "\n",
    "maks=0\n",
    "mod={}\n",
    "\n",
    "for i in nilaiTugas:\n",
    "    count= nilaiTugas.count(i)\n",
    "    mod.update({i:count})\n",
    "\n",
    "for n in mod:\n",
    "    if mod[n]>maks:\n",
    "        maks=modus[n]\n",
    "\n",
    "for n in mod:\n",
    "    if mod[n]==maks:\n",
    "        print(\"Nilai Modusnya adalah =\",n)"
   ]
  },
  {
   "cell_type": "markdown",
   "metadata": {},
   "source": [
    "![title](img/python2.png)"
   ]
  },
  {
   "cell_type": "markdown",
   "metadata": {},
   "source": [
    "# 2. Tugas Word Count (LATIHAN 3)"
   ]
  },
  {
   "cell_type": "code",
   "execution_count": 100,
   "metadata": {},
   "outputs": [
    {
     "name": "stdout",
     "output_type": "stream",
     "text": [
      "Barcelona berhasil merebut posisi puncak klasemen La Liga Spanyol seusai menang 4-2 atas Sevilla pada pertandingan pekan kesembilan di Stadion Camp Nou, Sabtu (20/10/2018) atau Minggu dini hari WIB. Barcelona membuka keunggulan pada menit ke-2 melalui gol yang dicetak oleh Philippe Coutinho. Lionel Messi menggandakan keunggulan Barcelona, 10 menit berselang.  Namun, nahas bagi Barcelona, karena Messi harus ditarik keluar pada menit ke-26 setelah mengalami cedera. Tanpa Messi, skor 2-0 bertahan hingga babak pertama berakhir.\n",
      "\n",
      "\n",
      " (Word Count) dari paragraf di atas adalah sebagai berikut :\n",
      "# lionel : 1\n",
      "# puncak : 1\n",
      "# pertandingan : 1\n",
      "# membuka : 1\n",
      "# atas : 1\n",
      "# gol : 1\n",
      "# 20 : 1\n",
      "# namun : 1\n",
      "# dicetak : 1\n",
      "# barcelona : 4\n",
      "# liga : 1\n",
      "# kesembilan : 1\n",
      "# stadion : 1\n",
      "# 10 : 2\n",
      "# messi : 3\n",
      "# berakhir : 1\n",
      "# setelah : 1\n",
      "# berhasil : 1\n",
      "# seusai : 1\n",
      "# nou : 1\n",
      "# pekan : 1\n",
      "# klasemen : 1\n",
      "# pada : 3\n",
      "# 2018 : 1\n",
      "# minggu : 1\n",
      "# wib : 1\n",
      "# bagi : 1\n",
      "# harus : 1\n",
      "# cedera : 1\n",
      "# nahas : 1\n",
      "# posisi : 1\n",
      "# sevilla : 1\n",
      "# 4 : 1\n",
      "# 0 : 1\n",
      "# 26 : 1\n",
      "# bertahan : 1\n",
      "# sabtu : 1\n",
      "# oleh : 1\n",
      "# melalui : 1\n",
      "# mengalami : 1\n",
      "# karena : 1\n",
      "# coutinho : 1\n",
      "# merebut : 1\n",
      "# berselang : 1\n",
      "# menggandakan : 1\n",
      "# ditarik : 1\n",
      "# di : 1\n",
      "# babak : 1\n",
      "# dini : 1\n",
      "# menit : 3\n",
      "# camp : 1\n",
      "# keluar : 1\n",
      "# yang : 1\n",
      "# keunggulan : 2\n",
      "# hingga : 1\n",
      "# pertama : 1\n",
      "# atau : 1\n",
      "# skor : 1\n",
      "# la : 1\n",
      "# menang : 1\n",
      "# 2 : 3\n",
      "# tanpa : 1\n",
      "# hari : 1\n",
      "# ke : 2\n",
      "# spanyol : 1\n",
      "# philippe : 1\n"
     ]
    }
   ],
   "source": [
    "paragraf = \"Barcelona berhasil merebut posisi puncak klasemen La Liga Spanyol seusai menang 4-2 atas Sevilla pada pertandingan pekan kesembilan di Stadion Camp Nou, Sabtu (20/10/2018) atau Minggu dini hari WIB. Barcelona membuka keunggulan pada menit ke-2 melalui gol yang dicetak oleh Philippe Coutinho. Lionel Messi menggandakan keunggulan Barcelona, 10 menit berselang.  Namun, nahas bagi Barcelona, karena Messi harus ditarik keluar pada menit ke-26 setelah mengalami cedera. Tanpa Messi, skor 2-0 bertahan hingga babak pertama berakhir.\"\n",
    "print(paragraf)\n",
    "\n",
    "#replace karakter spesial denga spasi\n",
    "\n",
    "paragraf = paragraf.replace(\"-\", \" \")\n",
    "paragraf = paragraf.replace(\"/\", \" \")\n",
    "paragraf = paragraf.replace(\",\", \" \")\n",
    "paragraf = paragraf.replace(\"(\",\" \")\n",
    "paragraf = paragraf.replace(\")\", \" \")\n",
    "\n",
    "#ubah jadi huruf kecil semua\n",
    "\n",
    "paragraf = paragraf.lower()\n",
    "\n",
    "#dipecah menjadi kalimat-kalimat\n",
    "kalimat = paragraf.split('.')\n",
    "kt = []\n",
    "# masing-masing kalimat dipecah menjadi kata\n",
    "for k in kalimat:\n",
    "    kt.append(k.strip().split())\n",
    "\n",
    "# gabung jadi 1 list\n",
    "listKata = []\n",
    "for k in kt:\n",
    "    listKata = listKata + k\n",
    "\n",
    "# cetak(daftarKata)\n",
    "# get unique word\n",
    "ms = set(listKata)\n",
    "md = {}\n",
    "for i in ms:\n",
    "    md[i] = listKata.count(i)\n",
    "\n",
    "# print(myDictionary)\n",
    "print('\\n\\n (Word Count) dari paragraf di atas adalah sebagai berikut :')\n",
    "for k,v in md.items():\n",
    "        print('#',k,':',v)"
   ]
  },
  {
   "cell_type": "markdown",
   "metadata": {},
   "source": [
    "# ============================================================"
   ]
  }
 ],
 "metadata": {
  "kernelspec": {
   "display_name": "Python 3",
   "language": "python",
   "name": "python3"
  },
  "language_info": {
   "codemirror_mode": {
    "name": "ipython",
    "version": 3
   },
   "file_extension": ".py",
   "mimetype": "text/x-python",
   "name": "python",
   "nbconvert_exporter": "python",
   "pygments_lexer": "ipython3",
   "version": "3.7.0"
  }
 },
 "nbformat": 4,
 "nbformat_minor": 2
}
