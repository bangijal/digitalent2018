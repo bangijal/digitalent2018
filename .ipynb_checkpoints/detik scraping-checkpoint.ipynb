{
 "cells": [
  {
   "cell_type": "code",
   "execution_count": 4,
   "metadata": {},
   "outputs": [],
   "source": [
    "from bs4 import BeautifulSoup as bs\n",
    "import urllib"
   ]
  },
  {
   "cell_type": "code",
   "execution_count": 5,
   "metadata": {},
   "outputs": [
    {
     "name": "stdout",
     "output_type": "stream",
     "text": [
      "b'<!DOCTYPE html>\\n<html>\\n<head>\\n <title>Indeks berita terbaru hari ini dari isu terkini di indonesia</title>\\n<meta name=\"description\" content=\"Indeks berita terbaru hari ini dari peristiwa, kecelakaan, kriminal, hukum, berita unik, Politik, dan liputan khusus di Indonesia dan Internasional\" itemprop=\"description\" />\\n<meta charset=\"utf-8\">\\n<meta http-equiv=\"X-UA-Compatible\" content=\"text/html; charset=UTF-8\" />\\n<meta name=\"viewport\" content=\"width=device-width, initial-scale=1.0\" />\\n<link href=\"https://plus.google.com/+detikcom\" rel=\"publisher\" />\\n <meta property=\"og:type\" content=\"article\" />\\n <meta property=\"og:site_name\" content=\"detiknews\" />\\n <meta property=\"og:title\" content=\"Indeks berita terbaru hari ini dari isu terkini di indonesia\" />\\n <meta property=\"og:image\" content=\"https://akcdn.detik.net.id/logo_tematik/logodetiknews.png\" />\\n <meta property=\"og:description\" content=\"Indeks berita terbaru hari ini dari peristiwa, kecelakaan, kriminal, hukum, berita unik, Politik, dan liputan khusus di Indonesia dan Internasional\" />\\n <meta property=\"og:url\" content=\"https://news.detik.com/indeks/all\" />\\n <meta property=\"fb:app_id\" content=\"187960271237149\" />\\n <meta property=\"fb:admins\" content=\"100000607566694\" />\\n <meta property=\"og:image:type\" content=\"image/jpeg\" />\\n <meta property=\"og:image:width\" content=\"650\" />\\n <meta property=\"og:image:height\" content=\"366\" />\\n<meta name=\"copyright\" content=\"detiknews\" itemprop=\"dateline\" />\\n<meta name=\"p:domain_verify\" content=\"405e0728202749df914f7811375e18a0\" />\\n<meta name=\"robots\" content=\"index, follow\" />\\n<meta content=\"Indeks berita terbaru hari ini dari peristiwa, kecelakaan, kriminal, hukum, berita unik, Politik, dan liputan khusus di Indonesia dan Internasional\" itemprop=\"headline\" />\\n<meta name=\"keywords\" content=\"berita hari ini, berita terkini, info berita, peristiwa, kecelakaan, kriminal, hukum, berita unik, Politik, liputan khusus, Indonesia, Internasional\" itemprop=\"keywords\" />\\n<meta name=\"thumbnailUrl\" content'...\n"
     ]
    }
   ],
   "source": [
    "url = 'https://news.detik.com/indeks/all'\n",
    "html = urllib.request.urlopen(url).read()\n",
    "print(str(html[:2000])+'...')\n"
   ]
  },
  {
   "cell_type": "code",
   "execution_count": 6,
   "metadata": {},
   "outputs": [
    {
     "data": {
      "text/plain": [
       "['https://news.detik.com/detiktv/d-4277000/ngevlog-di-titik-awal-sumpah-pemuda-dicetuskan',\n",
       " 'https://news.detik.com/berita/d-4276999/biaya-perbaikan-venue-jakabaring-yang-rusak-diterjang-angin-rp-20-m',\n",
       " 'https://news.detik.com/berita/d-4276997/menpan-rb-seleksi-cpns-di-sulteng-akan-diberi-skema-khusus',\n",
       " 'https://news.detik.com/berita/d-4276994/jembatan-suramadu-gratis-erick-thohir-jangan-hanya-komplain',\n",
       " 'https://news.detik.com/berita/d-4276991/festival-keraton-jokowi-iriana-berpakaian-bagai-raja-ratu-jawa',\n",
       " 'https://news.detik.com/berita/d-4276992/ingin-susi-urus-nelayan-sandi-belum-tentu-jadi-menteri',\n",
       " 'https://news.detik.com/berita-jawa-timur/d-4276980/lucunya-tingkah-anak-anak-banyuwangi-lepas-tukik-di-hari-sumpah-pemuda',\n",
       " 'https://news.detik.com/berita/d-4276979/jembatan-suramadu-gratis-puan-maharani-tak-politis',\n",
       " 'https://news.detik.com/internasional/d-4276976/bos-leicester-city-vichai-srivaddhanaprabha-ada-di-helikopter-jatuh',\n",
       " 'https://news.detik.com/foto-news/d-4276959/potret-kondisi-palu-sebulan-usai-gempa-dan-tsunami-menerjang',\n",
       " 'https://news.detik.com/berita/d-4276957/ridwan-kamil-saya-dilarang-komentari-meikarta-nanti-salah-lagi',\n",
       " 'https://news.detik.com/berita-jawa-timur/d-4276943/dilecehkan-korban-mobil-tabrak-air-mancur-di-surabaya-lapor-polisi',\n",
       " 'https://news.detik.com/foto-news/d-4276926/peringatan-sumpah-pemuda-di-abn-partai-nasdem',\n",
       " 'https://news.detik.com/berita/d-4276923/artidjo-lipatgandakan-vonis-eks-bos-pelindo-ii-jadi-9-tahun-bui',\n",
       " 'https://news.detik.com/berita/d-4276924/kapitra-tawarkan-diri-jadi-pengacara-pembawa-bendera-hti',\n",
       " 'https://news.detik.com/foto-news/d-4276916/salam-metal-puan-di-hari-sumpah-pemuda',\n",
       " 'https://news.detik.com/berita/d-4276925/rommy-ppp-akan-all-out-menangkan-jokowi',\n",
       " 'https://news.detik.com/berita/d-4276915/saat-erick-thohir-ucapkan-terima-kasih-ke-sandiaga-di-milenial-fest',\n",
       " 'https://news.detik.com/berita/d-4276893/taufik-kurniawan-dicegah-kpk-fahri-tunggu-penjelasan-resmi-ke-dpr',\n",
       " 'https://news.detik.com/berita/d-4276902/puan-maharani-singgung-hoax-seorang-ibu-di-konser-sumpah-pemuda-pdip']"
      ]
     },
     "execution_count": 6,
     "metadata": {},
     "output_type": "execute_result"
    }
   ],
   "source": [
    "soup = bs(html,'lxml')\n",
    "divs = soup.find_all('div', attrs={'class':'desc_idx ml10'})\n",
    "\n",
    "news_links = []\n",
    "for div in divs:\n",
    "    news_links.append(div.a['href'])\n",
    "news_links"
   ]
  },
  {
   "cell_type": "code",
   "execution_count": null,
   "metadata": {},
   "outputs": [],
   "source": []
  }
 ],
 "metadata": {
  "kernelspec": {
   "display_name": "Python 3",
   "language": "python",
   "name": "python3"
  }
 },
 "nbformat": 4,
 "nbformat_minor": 2
}
