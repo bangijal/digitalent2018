{
 "cells": [
  {
   "cell_type": "markdown",
   "metadata": {},
   "source": [
    "# Menghitung BMI (Source Code) \n",
    "\n",
    "Nama  : Rizal Imran Rusyadi\n",
    "\n",
    "Kelas : BigData-B \n",
    "\n",
    "Body Mass Index (BMI) menentukan sebuah keidealan berat badan terhadap tinggi badan. Berikut adalah formula dari BMI : BMI = weight (kg) ÷ height^2 (m^2)\n",
    "\n",
    "Berikut adalah kategorisasi BMI\n",
    "\n",
    "BMI\tKategori :\t\n",
    "Kurang dari 15\t      =   Very severely underweight\t\n",
    "Diantara 15 dan 16\t  =   Severely underweight\t\n",
    "Diantara 16 dan 18.5  =\t  Underweight\t\n",
    "Diantara 18.5 dan 25  =\t  Normal (healthy weight)\t\n",
    "Diantara 25 dan 30\t  =   Overweight\t\n",
    "Diantara 30 dan 35\t  =   Moderately obese\t\n",
    "Diantara 35 dan 40\t  =   Severely obese\t\n",
    "Over 40\t              =   Very severely obese\n",
    "\n",
    "Buatlah sebuah program yang memiliki dua variabel berat badan dengan satuan KG, dan tinggi badan dengan satuan CM, kemudian keluaran dari program adalah Kategori BMI"
   ]
  },
  {
   "cell_type": "code",
   "execution_count": 1,
   "metadata": {},
   "outputs": [
    {
     "name": "stdout",
     "output_type": "stream",
     "text": [
      "Insert Weight(kg) : 68\n",
      "Insert Height(cm) : 145\n",
      "Your BMI =  32.34244946492271\n",
      "Your BMI is 32.34244946492271 , category : Moderately obese.\n"
     ]
    }
   ],
   "source": [
    "#Program Hitung BMI\n",
    "\n",
    "#variabel\n",
    "weight = float(input('Insert Weight(kg) : '))\n",
    "height = float(input('Insert Height(cm) : '))\n",
    "\n",
    "#rumus BMI\n",
    "bmi    = weight/(height / 100)**2\n",
    "\n",
    "#cetak BMI\n",
    "print('Your BMI = ', bmi)\n",
    "\n",
    "#kategori BMI :)\n",
    "if bmi <= 15:\n",
    "        print('Your BMI is', bmi,', category : Very severely underweight.')\n",
    "elif bmi > 15 and bmi < 16:\n",
    "        print('Your BMI is', bmi,', category : Severely underweight.')\n",
    "elif bmi > 16 and bmi < 18.5:\n",
    "        print('Your BMI is', bmi,', category : Underweight.')\n",
    "elif bmi > 18.5 and bmi < 25:\n",
    "        print('Your BMI is', bmi,', category : Normal (healthy weight).') \n",
    "elif bmi > 25 and bmi < 30:\n",
    "        print('Your BMI is', bmi,', category : Overweight.')\n",
    "elif bmi > 30 and bmi < 35:\n",
    "        print('Your BMI is', bmi,', category : Moderately obese.')\n",
    "elif bmi > 35 and bmi < 40:\n",
    "        print('Your BMI is', bmi,', category : Severely obese.') \n",
    "elif bmi > 40:\n",
    "        print('Your BMI is', bmi,', category : Very severely obese.') "
   ]
  }
 ],
 "metadata": {
  "kernelspec": {
   "display_name": "Python 3",
   "language": "python",
   "name": "python3"
  },
  "language_info": {
   "codemirror_mode": {
    "name": "ipython",
    "version": 3
   },
   "file_extension": ".py",
   "mimetype": "text/x-python",
   "name": "python",
   "nbconvert_exporter": "python",
   "pygments_lexer": "ipython3",
   "version": "3.7.0"
  }
 },
 "nbformat": 4,
 "nbformat_minor": 2
}
